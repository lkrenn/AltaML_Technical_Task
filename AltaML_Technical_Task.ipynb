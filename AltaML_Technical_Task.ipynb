{
 "cells": [
  {
   "cell_type": "markdown",
   "metadata": {},
   "source": [
    "# AltaML Technical Task\n",
    "\n",
    "In this notebook, we will be exploring the problem given by AltaML and answer some of the questions provided. Let us first begin by creating a cell to import all the packages that will be used in this project:"
   ]
  },
  {
   "cell_type": "code",
   "execution_count": 1,
   "metadata": {},
   "outputs": [
    {
     "name": "stderr",
     "output_type": "stream",
     "text": [
      "/Users/lucaskrenn/opt/anaconda3/lib/python3.7/site-packages/statsmodels/tools/_testing.py:19: FutureWarning: pandas.util.testing is deprecated. Use the functions in the public API at pandas.testing instead.\n",
      "  import pandas.util.testing as tm\n"
     ]
    }
   ],
   "source": [
    "import numpy as np\n",
    "import pandas as pd\n",
    "import matplotlib.pyplot as plt\n",
    "\n",
    "from sklearn.model_selection import train_test_split\n",
    "from sklearn import linear_model\n",
    "from sklearn.impute import KNNImputer\n",
    "\n",
    "import statsmodels.api as sm\n",
    "from scipy import stats\n",
    "\n",
    "from sklearn.ensemble import RandomForestRegressor\n",
    "from sklearn.model_selection import RandomizedSearchCV\n",
    "\n",
    "from sklearn.metrics import r2_score\n",
    "from sklearn.metrics import mean_squared_error"
   ]
  },
  {
   "cell_type": "code",
   "execution_count": 2,
   "metadata": {},
   "outputs": [
    {
     "name": "stdout",
     "output_type": "stream",
     "text": [
      "0.24.2\n"
     ]
    }
   ],
   "source": [
    "import sklearn\n",
    "print(sklearn.__version__)"
   ]
  },
  {
   "cell_type": "markdown",
   "metadata": {},
   "source": [
    "# Section 1: Cleaning Data"
   ]
  },
  {
   "cell_type": "markdown",
   "metadata": {},
   "source": [
    "Let's take a first look at the data:"
   ]
  },
  {
   "cell_type": "code",
   "execution_count": 3,
   "metadata": {},
   "outputs": [
    {
     "data": {
      "text/html": [
       "<div>\n",
       "<style scoped>\n",
       "    .dataframe tbody tr th:only-of-type {\n",
       "        vertical-align: middle;\n",
       "    }\n",
       "\n",
       "    .dataframe tbody tr th {\n",
       "        vertical-align: top;\n",
       "    }\n",
       "\n",
       "    .dataframe thead th {\n",
       "        text-align: right;\n",
       "    }\n",
       "</style>\n",
       "<table border=\"1\" class=\"dataframe\">\n",
       "  <thead>\n",
       "    <tr style=\"text-align: right;\">\n",
       "      <th></th>\n",
       "      <th>id</th>\n",
       "      <th>water</th>\n",
       "      <th>uv</th>\n",
       "      <th>area</th>\n",
       "      <th>fertilizer_usage</th>\n",
       "      <th>yield</th>\n",
       "      <th>pesticides</th>\n",
       "      <th>region</th>\n",
       "      <th>categories</th>\n",
       "    </tr>\n",
       "  </thead>\n",
       "  <tbody>\n",
       "    <tr>\n",
       "      <th>0</th>\n",
       "      <td>169</td>\n",
       "      <td>5.615</td>\n",
       "      <td>65.281</td>\n",
       "      <td>3.230</td>\n",
       "      <td>0</td>\n",
       "      <td>7.977</td>\n",
       "      <td>8.969</td>\n",
       "      <td>0</td>\n",
       "      <td>b,a,c</td>\n",
       "    </tr>\n",
       "    <tr>\n",
       "      <th>1</th>\n",
       "      <td>476</td>\n",
       "      <td>7.044</td>\n",
       "      <td>73.319</td>\n",
       "      <td>9.081</td>\n",
       "      <td>0</td>\n",
       "      <td>23.009</td>\n",
       "      <td>7.197</td>\n",
       "      <td>0</td>\n",
       "      <td>c,a,d</td>\n",
       "    </tr>\n",
       "    <tr>\n",
       "      <th>2</th>\n",
       "      <td>152</td>\n",
       "      <td>5.607</td>\n",
       "      <td>60.038</td>\n",
       "      <td>2.864</td>\n",
       "      <td>2</td>\n",
       "      <td>23.019</td>\n",
       "      <td>7.424</td>\n",
       "      <td>0</td>\n",
       "      <td>d,a</td>\n",
       "    </tr>\n",
       "    <tr>\n",
       "      <th>3</th>\n",
       "      <td>293</td>\n",
       "      <td>9.346</td>\n",
       "      <td>64.719</td>\n",
       "      <td>2.797</td>\n",
       "      <td>2</td>\n",
       "      <td>28.066</td>\n",
       "      <td>1.256</td>\n",
       "      <td>0</td>\n",
       "      <td>d</td>\n",
       "    </tr>\n",
       "    <tr>\n",
       "      <th>4</th>\n",
       "      <td>10</td>\n",
       "      <td>7.969</td>\n",
       "      <td>NaN</td>\n",
       "      <td>5.407</td>\n",
       "      <td>1</td>\n",
       "      <td>29.140</td>\n",
       "      <td>0.274</td>\n",
       "      <td>0</td>\n",
       "      <td>c,d</td>\n",
       "    </tr>\n",
       "  </tbody>\n",
       "</table>\n",
       "</div>"
      ],
      "text/plain": [
       "    id  water      uv   area  fertilizer_usage   yield  pesticides  region  \\\n",
       "0  169  5.615  65.281  3.230                 0   7.977       8.969       0   \n",
       "1  476  7.044  73.319  9.081                 0  23.009       7.197       0   \n",
       "2  152  5.607  60.038  2.864                 2  23.019       7.424       0   \n",
       "3  293  9.346  64.719  2.797                 2  28.066       1.256       0   \n",
       "4   10  7.969     NaN  5.407                 1  29.140       0.274       0   \n",
       "\n",
       "  categories  \n",
       "0      b,a,c  \n",
       "1      c,a,d  \n",
       "2        d,a  \n",
       "3          d  \n",
       "4        c,d  "
      ]
     },
     "execution_count": 3,
     "metadata": {},
     "output_type": "execute_result"
    }
   ],
   "source": [
    "# Import data and show the first 5 rows\n",
    "data = pd.read_csv('dataset.csv')\n",
    "data.head()"
   ]
  },
  {
   "cell_type": "code",
   "execution_count": 4,
   "metadata": {},
   "outputs": [
    {
     "data": {
      "text/plain": [
       "True"
      ]
     },
     "execution_count": 4,
     "metadata": {},
     "output_type": "execute_result"
    }
   ],
   "source": [
    "# I think the id column may be redundant...\n",
    "# Check if all sorted values correspond to some integer between 0-999:\n",
    "np.all(data['id'].sort_values().values == np.array(list(range(1000))))"
   ]
  },
  {
   "cell_type": "markdown",
   "metadata": {},
   "source": [
    "Since the set of all unique values is the same as the list of integers between 0-999, it is safe to reindex the dataframe and use id as the index. Since the data is independent, we can also rearrange the dataframe as we please:"
   ]
  },
  {
   "cell_type": "code",
   "execution_count": 5,
   "metadata": {},
   "outputs": [
    {
     "data": {
      "text/html": [
       "<div>\n",
       "<style scoped>\n",
       "    .dataframe tbody tr th:only-of-type {\n",
       "        vertical-align: middle;\n",
       "    }\n",
       "\n",
       "    .dataframe tbody tr th {\n",
       "        vertical-align: top;\n",
       "    }\n",
       "\n",
       "    .dataframe thead th {\n",
       "        text-align: right;\n",
       "    }\n",
       "</style>\n",
       "<table border=\"1\" class=\"dataframe\">\n",
       "  <thead>\n",
       "    <tr style=\"text-align: right;\">\n",
       "      <th></th>\n",
       "      <th>water</th>\n",
       "      <th>uv</th>\n",
       "      <th>area</th>\n",
       "      <th>fertilizer_usage</th>\n",
       "      <th>yield</th>\n",
       "      <th>pesticides</th>\n",
       "      <th>region</th>\n",
       "      <th>categories</th>\n",
       "    </tr>\n",
       "    <tr>\n",
       "      <th>id</th>\n",
       "      <th></th>\n",
       "      <th></th>\n",
       "      <th></th>\n",
       "      <th></th>\n",
       "      <th></th>\n",
       "      <th></th>\n",
       "      <th></th>\n",
       "      <th></th>\n",
       "    </tr>\n",
       "  </thead>\n",
       "  <tbody>\n",
       "    <tr>\n",
       "      <th>0</th>\n",
       "      <td>0.072</td>\n",
       "      <td>80.179</td>\n",
       "      <td>9.414</td>\n",
       "      <td>0</td>\n",
       "      <td>29.878</td>\n",
       "      <td>2.231</td>\n",
       "      <td>6</td>\n",
       "      <td>c,b</td>\n",
       "    </tr>\n",
       "    <tr>\n",
       "      <th>1</th>\n",
       "      <td>5.413</td>\n",
       "      <td>58.359</td>\n",
       "      <td>9.681</td>\n",
       "      <td>2</td>\n",
       "      <td>53.416</td>\n",
       "      <td>1.810</td>\n",
       "      <td>6</td>\n",
       "      <td>c,b</td>\n",
       "    </tr>\n",
       "    <tr>\n",
       "      <th>2</th>\n",
       "      <td>9.731</td>\n",
       "      <td>78.506</td>\n",
       "      <td>7.189</td>\n",
       "      <td>1</td>\n",
       "      <td>63.391</td>\n",
       "      <td>2.455</td>\n",
       "      <td>1</td>\n",
       "      <td>d</td>\n",
       "    </tr>\n",
       "    <tr>\n",
       "      <th>3</th>\n",
       "      <td>10.995</td>\n",
       "      <td>69.248</td>\n",
       "      <td>1.738</td>\n",
       "      <td>3</td>\n",
       "      <td>17.984</td>\n",
       "      <td>0.603</td>\n",
       "      <td>2</td>\n",
       "      <td>a</td>\n",
       "    </tr>\n",
       "    <tr>\n",
       "      <th>4</th>\n",
       "      <td>2.617</td>\n",
       "      <td>87.658</td>\n",
       "      <td>9.706</td>\n",
       "      <td>1</td>\n",
       "      <td>49.768</td>\n",
       "      <td>2.910</td>\n",
       "      <td>6</td>\n",
       "      <td>c</td>\n",
       "    </tr>\n",
       "  </tbody>\n",
       "</table>\n",
       "</div>"
      ],
      "text/plain": [
       "     water      uv   area  fertilizer_usage   yield  pesticides  region  \\\n",
       "id                                                                        \n",
       "0    0.072  80.179  9.414                 0  29.878       2.231       6   \n",
       "1    5.413  58.359  9.681                 2  53.416       1.810       6   \n",
       "2    9.731  78.506  7.189                 1  63.391       2.455       1   \n",
       "3   10.995  69.248  1.738                 3  17.984       0.603       2   \n",
       "4    2.617  87.658  9.706                 1  49.768       2.910       6   \n",
       "\n",
       "   categories  \n",
       "id             \n",
       "0         c,b  \n",
       "1         c,b  \n",
       "2           d  \n",
       "3           a  \n",
       "4           c  "
      ]
     },
     "execution_count": 5,
     "metadata": {},
     "output_type": "execute_result"
    }
   ],
   "source": [
    "data = data.set_index('id').sort_index()\n",
    "data.head()"
   ]
  },
  {
   "cell_type": "code",
   "execution_count": 6,
   "metadata": {},
   "outputs": [
    {
     "data": {
      "text/html": [
       "<div>\n",
       "<style scoped>\n",
       "    .dataframe tbody tr th:only-of-type {\n",
       "        vertical-align: middle;\n",
       "    }\n",
       "\n",
       "    .dataframe tbody tr th {\n",
       "        vertical-align: top;\n",
       "    }\n",
       "\n",
       "    .dataframe thead th {\n",
       "        text-align: right;\n",
       "    }\n",
       "</style>\n",
       "<table border=\"1\" class=\"dataframe\">\n",
       "  <thead>\n",
       "    <tr style=\"text-align: right;\">\n",
       "      <th></th>\n",
       "      <th>water</th>\n",
       "      <th>uv</th>\n",
       "      <th>area</th>\n",
       "      <th>fertilizer_usage</th>\n",
       "      <th>yield</th>\n",
       "      <th>pesticides</th>\n",
       "      <th>region</th>\n",
       "    </tr>\n",
       "  </thead>\n",
       "  <tbody>\n",
       "    <tr>\n",
       "      <th>count</th>\n",
       "      <td>958.000000</td>\n",
       "      <td>949.000000</td>\n",
       "      <td>1000.000000</td>\n",
       "      <td>1000.00000</td>\n",
       "      <td>1000.000000</td>\n",
       "      <td>1000.000000</td>\n",
       "      <td>1000.000000</td>\n",
       "    </tr>\n",
       "    <tr>\n",
       "      <th>mean</th>\n",
       "      <td>12.223546</td>\n",
       "      <td>73.957488</td>\n",
       "      <td>8.098848</td>\n",
       "      <td>2.12300</td>\n",
       "      <td>58.758571</td>\n",
       "      <td>3.452301</td>\n",
       "      <td>3.039000</td>\n",
       "    </tr>\n",
       "    <tr>\n",
       "      <th>std</th>\n",
       "      <td>172.335566</td>\n",
       "      <td>9.904063</td>\n",
       "      <td>2.692632</td>\n",
       "      <td>1.52256</td>\n",
       "      <td>24.563683</td>\n",
       "      <td>2.076921</td>\n",
       "      <td>1.883886</td>\n",
       "    </tr>\n",
       "    <tr>\n",
       "      <th>min</th>\n",
       "      <td>0.072000</td>\n",
       "      <td>45.264000</td>\n",
       "      <td>0.263000</td>\n",
       "      <td>0.00000</td>\n",
       "      <td>2.843000</td>\n",
       "      <td>0.014000</td>\n",
       "      <td>0.000000</td>\n",
       "    </tr>\n",
       "    <tr>\n",
       "      <th>25%</th>\n",
       "      <td>4.584750</td>\n",
       "      <td>66.502000</td>\n",
       "      <td>6.297000</td>\n",
       "      <td>1.00000</td>\n",
       "      <td>40.698000</td>\n",
       "      <td>1.804500</td>\n",
       "      <td>2.000000</td>\n",
       "    </tr>\n",
       "    <tr>\n",
       "      <th>50%</th>\n",
       "      <td>6.476000</td>\n",
       "      <td>73.689000</td>\n",
       "      <td>7.987500</td>\n",
       "      <td>2.00000</td>\n",
       "      <td>55.602500</td>\n",
       "      <td>3.275500</td>\n",
       "      <td>2.000000</td>\n",
       "    </tr>\n",
       "    <tr>\n",
       "      <th>75%</th>\n",
       "      <td>8.758750</td>\n",
       "      <td>80.554000</td>\n",
       "      <td>9.900250</td>\n",
       "      <td>3.00000</td>\n",
       "      <td>73.645500</td>\n",
       "      <td>4.916000</td>\n",
       "      <td>5.000000</td>\n",
       "    </tr>\n",
       "    <tr>\n",
       "      <th>max</th>\n",
       "      <td>5340.000000</td>\n",
       "      <td>106.310000</td>\n",
       "      <td>18.311000</td>\n",
       "      <td>5.00000</td>\n",
       "      <td>148.845000</td>\n",
       "      <td>9.532000</td>\n",
       "      <td>6.000000</td>\n",
       "    </tr>\n",
       "  </tbody>\n",
       "</table>\n",
       "</div>"
      ],
      "text/plain": [
       "             water          uv         area  fertilizer_usage        yield  \\\n",
       "count   958.000000  949.000000  1000.000000        1000.00000  1000.000000   \n",
       "mean     12.223546   73.957488     8.098848           2.12300    58.758571   \n",
       "std     172.335566    9.904063     2.692632           1.52256    24.563683   \n",
       "min       0.072000   45.264000     0.263000           0.00000     2.843000   \n",
       "25%       4.584750   66.502000     6.297000           1.00000    40.698000   \n",
       "50%       6.476000   73.689000     7.987500           2.00000    55.602500   \n",
       "75%       8.758750   80.554000     9.900250           3.00000    73.645500   \n",
       "max    5340.000000  106.310000    18.311000           5.00000   148.845000   \n",
       "\n",
       "        pesticides       region  \n",
       "count  1000.000000  1000.000000  \n",
       "mean      3.452301     3.039000  \n",
       "std       2.076921     1.883886  \n",
       "min       0.014000     0.000000  \n",
       "25%       1.804500     2.000000  \n",
       "50%       3.275500     2.000000  \n",
       "75%       4.916000     5.000000  \n",
       "max       9.532000     6.000000  "
      ]
     },
     "execution_count": 6,
     "metadata": {},
     "output_type": "execute_result"
    }
   ],
   "source": [
    "# Let's peek at some summary statistics\n",
    "data.describe()"
   ]
  },
  {
   "cell_type": "markdown",
   "metadata": {},
   "source": [
    "Right away, I can see that there may be some outliers in the water column."
   ]
  },
  {
   "cell_type": "code",
   "execution_count": 7,
   "metadata": {},
   "outputs": [
    {
     "data": {
      "text/plain": [
       "water               float64\n",
       "uv                  float64\n",
       "area                float64\n",
       "fertilizer_usage      int64\n",
       "yield               float64\n",
       "pesticides          float64\n",
       "region                int64\n",
       "categories           object\n",
       "dtype: object"
      ]
     },
     "execution_count": 7,
     "metadata": {},
     "output_type": "execute_result"
    }
   ],
   "source": [
    "# Lets check the types\n",
    "data.dtypes"
   ]
  },
  {
   "cell_type": "markdown",
   "metadata": {},
   "source": [
    "In order for the categories (pesticides) column to be useful, we can split each category into a unique column containing binary dummy variables indicating whether or not the observating is in each of the categories:"
   ]
  },
  {
   "cell_type": "code",
   "execution_count": 8,
   "metadata": {},
   "outputs": [
    {
     "data": {
      "text/plain": [
       "['c', 'b']"
      ]
     },
     "execution_count": 8,
     "metadata": {},
     "output_type": "execute_result"
    }
   ],
   "source": [
    "# Test a single observation first\n",
    "data.loc[0,'categories'].split(',')"
   ]
  },
  {
   "cell_type": "code",
   "execution_count": 9,
   "metadata": {},
   "outputs": [],
   "source": [
    "# Split every category into a list based on commas via list comprehension\n",
    "data['categories2'] = [x.split(',') for x in data.loc[:,'categories']]"
   ]
  },
  {
   "cell_type": "code",
   "execution_count": 10,
   "metadata": {},
   "outputs": [
    {
     "data": {
      "text/html": [
       "<div>\n",
       "<style scoped>\n",
       "    .dataframe tbody tr th:only-of-type {\n",
       "        vertical-align: middle;\n",
       "    }\n",
       "\n",
       "    .dataframe tbody tr th {\n",
       "        vertical-align: top;\n",
       "    }\n",
       "\n",
       "    .dataframe thead th {\n",
       "        text-align: right;\n",
       "    }\n",
       "</style>\n",
       "<table border=\"1\" class=\"dataframe\">\n",
       "  <thead>\n",
       "    <tr style=\"text-align: right;\">\n",
       "      <th></th>\n",
       "      <th>categories</th>\n",
       "      <th>categories2</th>\n",
       "    </tr>\n",
       "    <tr>\n",
       "      <th>id</th>\n",
       "      <th></th>\n",
       "      <th></th>\n",
       "    </tr>\n",
       "  </thead>\n",
       "  <tbody>\n",
       "    <tr>\n",
       "      <th>0</th>\n",
       "      <td>c,b</td>\n",
       "      <td>[c, b]</td>\n",
       "    </tr>\n",
       "    <tr>\n",
       "      <th>1</th>\n",
       "      <td>c,b</td>\n",
       "      <td>[c, b]</td>\n",
       "    </tr>\n",
       "    <tr>\n",
       "      <th>2</th>\n",
       "      <td>d</td>\n",
       "      <td>[d]</td>\n",
       "    </tr>\n",
       "    <tr>\n",
       "      <th>3</th>\n",
       "      <td>a</td>\n",
       "      <td>[a]</td>\n",
       "    </tr>\n",
       "    <tr>\n",
       "      <th>4</th>\n",
       "      <td>c</td>\n",
       "      <td>[c]</td>\n",
       "    </tr>\n",
       "    <tr>\n",
       "      <th>5</th>\n",
       "      <td>b</td>\n",
       "      <td>[b]</td>\n",
       "    </tr>\n",
       "    <tr>\n",
       "      <th>6</th>\n",
       "      <td>a</td>\n",
       "      <td>[a]</td>\n",
       "    </tr>\n",
       "    <tr>\n",
       "      <th>7</th>\n",
       "      <td>b,a,c</td>\n",
       "      <td>[b, a, c]</td>\n",
       "    </tr>\n",
       "    <tr>\n",
       "      <th>8</th>\n",
       "      <td>a</td>\n",
       "      <td>[a]</td>\n",
       "    </tr>\n",
       "    <tr>\n",
       "      <th>9</th>\n",
       "      <td>b,d</td>\n",
       "      <td>[b, d]</td>\n",
       "    </tr>\n",
       "    <tr>\n",
       "      <th>10</th>\n",
       "      <td>c,d</td>\n",
       "      <td>[c, d]</td>\n",
       "    </tr>\n",
       "  </tbody>\n",
       "</table>\n",
       "</div>"
      ],
      "text/plain": [
       "   categories categories2\n",
       "id                       \n",
       "0         c,b      [c, b]\n",
       "1         c,b      [c, b]\n",
       "2           d         [d]\n",
       "3           a         [a]\n",
       "4           c         [c]\n",
       "5           b         [b]\n",
       "6           a         [a]\n",
       "7       b,a,c   [b, a, c]\n",
       "8           a         [a]\n",
       "9         b,d      [b, d]\n",
       "10        c,d      [c, d]"
      ]
     },
     "execution_count": 10,
     "metadata": {},
     "output_type": "execute_result"
    }
   ],
   "source": [
    "# Sanity check\n",
    "data.loc[:10, ['categories', 'categories2']]"
   ]
  },
  {
   "cell_type": "markdown",
   "metadata": {},
   "source": [
    "Now that we have all of the categories in a clean list, we can create dummy variables and populate them with the binary 1\\/0 values mentioned above"
   ]
  },
  {
   "cell_type": "code",
   "execution_count": 11,
   "metadata": {},
   "outputs": [
    {
     "data": {
      "text/plain": [
       "{'a', 'b', 'c', 'd'}"
      ]
     },
     "execution_count": 11,
     "metadata": {},
     "output_type": "execute_result"
    }
   ],
   "source": [
    "# Find all unique values in categories2\n",
    "allvals = []\n",
    "for x in data['categories2'].values:\n",
    "    allvals += x\n",
    "set(allvals)"
   ]
  },
  {
   "cell_type": "code",
   "execution_count": 12,
   "metadata": {},
   "outputs": [],
   "source": [
    "dummies = pd.DataFrame([np.nan]*4).T\n",
    "dummies.columns = ['cat_a', 'cat_b', 'cat_c', 'cat_d']"
   ]
  },
  {
   "cell_type": "code",
   "execution_count": 13,
   "metadata": {},
   "outputs": [
    {
     "data": {
      "text/plain": [
       "array([0, 1, 1, 0])"
      ]
     },
     "execution_count": 13,
     "metadata": {},
     "output_type": "execute_result"
    }
   ],
   "source": [
    "# Try one value first\n",
    "pd.Series(['a', 'b', 'c', 'd']).isin(data.loc[0,'categories2']).values * 1"
   ]
  },
  {
   "cell_type": "code",
   "execution_count": 14,
   "metadata": {},
   "outputs": [
    {
     "data": {
      "text/plain": [
       "['c', 'b']"
      ]
     },
     "execution_count": 14,
     "metadata": {},
     "output_type": "execute_result"
    }
   ],
   "source": [
    "# Sanity check, a and d should not be in this list\n",
    "data.loc[0,'categories2']"
   ]
  },
  {
   "cell_type": "code",
   "execution_count": 15,
   "metadata": {},
   "outputs": [],
   "source": [
    "cat_vector = [pd.Series(['a', 'b', 'c', 'd']).isin(x).values * 1 for x in data['categories2']]"
   ]
  },
  {
   "cell_type": "code",
   "execution_count": 16,
   "metadata": {},
   "outputs": [
    {
     "data": {
      "text/plain": [
       "[array([0, 1, 1, 0]),\n",
       " array([0, 1, 1, 0]),\n",
       " array([0, 0, 0, 1]),\n",
       " array([1, 0, 0, 0]),\n",
       " array([0, 0, 1, 0])]"
      ]
     },
     "execution_count": 16,
     "metadata": {},
     "output_type": "execute_result"
    }
   ],
   "source": [
    "cat_vector[:5]"
   ]
  },
  {
   "cell_type": "code",
   "execution_count": 17,
   "metadata": {},
   "outputs": [
    {
     "data": {
      "text/html": [
       "<div>\n",
       "<style scoped>\n",
       "    .dataframe tbody tr th:only-of-type {\n",
       "        vertical-align: middle;\n",
       "    }\n",
       "\n",
       "    .dataframe tbody tr th {\n",
       "        vertical-align: top;\n",
       "    }\n",
       "\n",
       "    .dataframe thead th {\n",
       "        text-align: right;\n",
       "    }\n",
       "</style>\n",
       "<table border=\"1\" class=\"dataframe\">\n",
       "  <thead>\n",
       "    <tr style=\"text-align: right;\">\n",
       "      <th></th>\n",
       "      <th>cat_a</th>\n",
       "      <th>cat_b</th>\n",
       "      <th>cat_c</th>\n",
       "      <th>cat_d</th>\n",
       "    </tr>\n",
       "  </thead>\n",
       "  <tbody>\n",
       "    <tr>\n",
       "      <th>0</th>\n",
       "      <td>0</td>\n",
       "      <td>1</td>\n",
       "      <td>1</td>\n",
       "      <td>0</td>\n",
       "    </tr>\n",
       "    <tr>\n",
       "      <th>1</th>\n",
       "      <td>0</td>\n",
       "      <td>1</td>\n",
       "      <td>1</td>\n",
       "      <td>0</td>\n",
       "    </tr>\n",
       "    <tr>\n",
       "      <th>2</th>\n",
       "      <td>0</td>\n",
       "      <td>0</td>\n",
       "      <td>0</td>\n",
       "      <td>1</td>\n",
       "    </tr>\n",
       "    <tr>\n",
       "      <th>3</th>\n",
       "      <td>1</td>\n",
       "      <td>0</td>\n",
       "      <td>0</td>\n",
       "      <td>0</td>\n",
       "    </tr>\n",
       "    <tr>\n",
       "      <th>4</th>\n",
       "      <td>0</td>\n",
       "      <td>0</td>\n",
       "      <td>1</td>\n",
       "      <td>0</td>\n",
       "    </tr>\n",
       "    <tr>\n",
       "      <th>...</th>\n",
       "      <td>...</td>\n",
       "      <td>...</td>\n",
       "      <td>...</td>\n",
       "      <td>...</td>\n",
       "    </tr>\n",
       "    <tr>\n",
       "      <th>995</th>\n",
       "      <td>0</td>\n",
       "      <td>0</td>\n",
       "      <td>1</td>\n",
       "      <td>0</td>\n",
       "    </tr>\n",
       "    <tr>\n",
       "      <th>996</th>\n",
       "      <td>1</td>\n",
       "      <td>1</td>\n",
       "      <td>0</td>\n",
       "      <td>1</td>\n",
       "    </tr>\n",
       "    <tr>\n",
       "      <th>997</th>\n",
       "      <td>0</td>\n",
       "      <td>1</td>\n",
       "      <td>0</td>\n",
       "      <td>0</td>\n",
       "    </tr>\n",
       "    <tr>\n",
       "      <th>998</th>\n",
       "      <td>1</td>\n",
       "      <td>1</td>\n",
       "      <td>1</td>\n",
       "      <td>1</td>\n",
       "    </tr>\n",
       "    <tr>\n",
       "      <th>999</th>\n",
       "      <td>0</td>\n",
       "      <td>0</td>\n",
       "      <td>1</td>\n",
       "      <td>0</td>\n",
       "    </tr>\n",
       "  </tbody>\n",
       "</table>\n",
       "<p>1000 rows × 4 columns</p>\n",
       "</div>"
      ],
      "text/plain": [
       "     cat_a  cat_b  cat_c  cat_d\n",
       "0        0      1      1      0\n",
       "1        0      1      1      0\n",
       "2        0      0      0      1\n",
       "3        1      0      0      0\n",
       "4        0      0      1      0\n",
       "..     ...    ...    ...    ...\n",
       "995      0      0      1      0\n",
       "996      1      1      0      1\n",
       "997      0      1      0      0\n",
       "998      1      1      1      1\n",
       "999      0      0      1      0\n",
       "\n",
       "[1000 rows x 4 columns]"
      ]
     },
     "execution_count": 17,
     "metadata": {},
     "output_type": "execute_result"
    }
   ],
   "source": [
    "vector_df = pd.DataFrame(cat_vector, columns = ['cat_a', 'cat_b', 'cat_c', 'cat_d'])\n",
    "vector_df"
   ]
  },
  {
   "cell_type": "code",
   "execution_count": 18,
   "metadata": {},
   "outputs": [],
   "source": [
    "# Add to our original dataframe\n",
    "data2 = pd.concat([data, vector_df], axis=1)\n",
    "\n",
    "# Remove the old categories columns now that we don't need them\n",
    "data2 = data2.drop(['categories', 'categories2'], axis=1)"
   ]
  },
  {
   "cell_type": "code",
   "execution_count": 19,
   "metadata": {},
   "outputs": [
    {
     "data": {
      "text/html": [
       "<div>\n",
       "<style scoped>\n",
       "    .dataframe tbody tr th:only-of-type {\n",
       "        vertical-align: middle;\n",
       "    }\n",
       "\n",
       "    .dataframe tbody tr th {\n",
       "        vertical-align: top;\n",
       "    }\n",
       "\n",
       "    .dataframe thead th {\n",
       "        text-align: right;\n",
       "    }\n",
       "</style>\n",
       "<table border=\"1\" class=\"dataframe\">\n",
       "  <thead>\n",
       "    <tr style=\"text-align: right;\">\n",
       "      <th></th>\n",
       "      <th>water</th>\n",
       "      <th>uv</th>\n",
       "      <th>area</th>\n",
       "      <th>fertilizer_usage</th>\n",
       "      <th>yield</th>\n",
       "      <th>pesticides</th>\n",
       "      <th>region</th>\n",
       "      <th>cat_a</th>\n",
       "      <th>cat_b</th>\n",
       "      <th>cat_c</th>\n",
       "      <th>cat_d</th>\n",
       "    </tr>\n",
       "  </thead>\n",
       "  <tbody>\n",
       "    <tr>\n",
       "      <th>0</th>\n",
       "      <td>0.072</td>\n",
       "      <td>80.179</td>\n",
       "      <td>9.414</td>\n",
       "      <td>0</td>\n",
       "      <td>29.878</td>\n",
       "      <td>2.231</td>\n",
       "      <td>6</td>\n",
       "      <td>0</td>\n",
       "      <td>1</td>\n",
       "      <td>1</td>\n",
       "      <td>0</td>\n",
       "    </tr>\n",
       "    <tr>\n",
       "      <th>1</th>\n",
       "      <td>5.413</td>\n",
       "      <td>58.359</td>\n",
       "      <td>9.681</td>\n",
       "      <td>2</td>\n",
       "      <td>53.416</td>\n",
       "      <td>1.810</td>\n",
       "      <td>6</td>\n",
       "      <td>0</td>\n",
       "      <td>1</td>\n",
       "      <td>1</td>\n",
       "      <td>0</td>\n",
       "    </tr>\n",
       "    <tr>\n",
       "      <th>2</th>\n",
       "      <td>9.731</td>\n",
       "      <td>78.506</td>\n",
       "      <td>7.189</td>\n",
       "      <td>1</td>\n",
       "      <td>63.391</td>\n",
       "      <td>2.455</td>\n",
       "      <td>1</td>\n",
       "      <td>0</td>\n",
       "      <td>0</td>\n",
       "      <td>0</td>\n",
       "      <td>1</td>\n",
       "    </tr>\n",
       "    <tr>\n",
       "      <th>3</th>\n",
       "      <td>10.995</td>\n",
       "      <td>69.248</td>\n",
       "      <td>1.738</td>\n",
       "      <td>3</td>\n",
       "      <td>17.984</td>\n",
       "      <td>0.603</td>\n",
       "      <td>2</td>\n",
       "      <td>1</td>\n",
       "      <td>0</td>\n",
       "      <td>0</td>\n",
       "      <td>0</td>\n",
       "    </tr>\n",
       "    <tr>\n",
       "      <th>4</th>\n",
       "      <td>2.617</td>\n",
       "      <td>87.658</td>\n",
       "      <td>9.706</td>\n",
       "      <td>1</td>\n",
       "      <td>49.768</td>\n",
       "      <td>2.910</td>\n",
       "      <td>6</td>\n",
       "      <td>0</td>\n",
       "      <td>0</td>\n",
       "      <td>1</td>\n",
       "      <td>0</td>\n",
       "    </tr>\n",
       "  </tbody>\n",
       "</table>\n",
       "</div>"
      ],
      "text/plain": [
       "    water      uv   area  fertilizer_usage   yield  pesticides  region  cat_a  \\\n",
       "0   0.072  80.179  9.414                 0  29.878       2.231       6      0   \n",
       "1   5.413  58.359  9.681                 2  53.416       1.810       6      0   \n",
       "2   9.731  78.506  7.189                 1  63.391       2.455       1      0   \n",
       "3  10.995  69.248  1.738                 3  17.984       0.603       2      1   \n",
       "4   2.617  87.658  9.706                 1  49.768       2.910       6      0   \n",
       "\n",
       "   cat_b  cat_c  cat_d  \n",
       "0      1      1      0  \n",
       "1      1      1      0  \n",
       "2      0      0      1  \n",
       "3      0      0      0  \n",
       "4      0      1      0  "
      ]
     },
     "execution_count": 19,
     "metadata": {},
     "output_type": "execute_result"
    }
   ],
   "source": [
    "data2.head()"
   ]
  },
  {
   "cell_type": "markdown",
   "metadata": {},
   "source": [
    "Now that we have all the data in the form that we want, we can now start to look at missing/extreme values. Even though we were provided some of this data in the summary statistics, a visualization may help us"
   ]
  },
  {
   "cell_type": "code",
   "execution_count": 20,
   "metadata": {},
   "outputs": [
    {
     "data": {
      "text/plain": [
       "water               42\n",
       "uv                  51\n",
       "area                 0\n",
       "fertilizer_usage     0\n",
       "yield                0\n",
       "pesticides           0\n",
       "region               0\n",
       "cat_a                0\n",
       "cat_b                0\n",
       "cat_c                0\n",
       "cat_d                0\n",
       "dtype: int64"
      ]
     },
     "execution_count": 20,
     "metadata": {},
     "output_type": "execute_result"
    }
   ],
   "source": [
    "# First check number of NaNs per column\n",
    "data2.isna().sum()"
   ]
  },
  {
   "cell_type": "markdown",
   "metadata": {},
   "source": [
    "We will likely need to impute these values or fill them with some sort of dummy value as I think filling missing values with zero is less attractive than imputing values. We will take care of that after doing some outlier detection"
   ]
  },
  {
   "cell_type": "code",
   "execution_count": 21,
   "metadata": {},
   "outputs": [
    {
     "data": {
      "image/png": "[encoded data removed]",
      "text/plain": [
       "<Figure size 720x720 with 6 Axes>"
      ]
     },
     "metadata": {
      "needs_background": "light"
     },
     "output_type": "display_data"
    }
   ],
   "source": [
    "# Plot boxplots\n",
    "plt.figure(figsize=(10,10))\n",
    "for i in range(len(data.describe().columns[1:])):\n",
    "    plt.subplot(2,3,i+1)\n",
    "    pd.DataFrame(data2.loc[:,data.describe().columns[i]]).boxplot()"
   ]
  },
  {
   "cell_type": "markdown",
   "metadata": {},
   "source": [
    "Water seems to have a severe outlier, I think it may be worth removing that observation"
   ]
  },
  {
   "cell_type": "code",
   "execution_count": 22,
   "metadata": {},
   "outputs": [],
   "source": [
    "# Remove any values that have a water value of more than 1000\n",
    "data3 = data2.loc[data2['water'] < 1000]"
   ]
  },
  {
   "cell_type": "code",
   "execution_count": 23,
   "metadata": {},
   "outputs": [
    {
     "data": {
      "image/png": "[encoded data removed]",
      "text/plain": [
       "<Figure size 720x720 with 6 Axes>"
      ]
     },
     "metadata": {
      "needs_background": "light"
     },
     "output_type": "display_data"
    }
   ],
   "source": [
    "# Replot the boxplots\n",
    "plt.figure(figsize=(10,10))\n",
    "for i in range(len(data.describe().columns[1:])):\n",
    "    plt.subplot(3,3,i+1)\n",
    "    pd.DataFrame(data3.loc[:,data.describe().columns[i]]).boxplot()"
   ]
  },
  {
   "cell_type": "markdown",
   "metadata": {},
   "source": [
    "Much better! Now let's tackle the issue of missing values. We will use an imputing method pre-packaged within sklearn called KNNImputer. By finding the two closest observations to an observation with a missing value, we can try to estimate the missing value. \n",
    "\n",
    "While NaN's are in particular tricky to work with, I think this is the lesser-of-all-evils (e.g. filling missing values with the mean or median of the rest of the column)"
   ]
  },
  {
   "cell_type": "code",
   "execution_count": 24,
   "metadata": {},
   "outputs": [],
   "source": [
    "imputer = KNNImputer(n_neighbors=2)"
   ]
  },
  {
   "cell_type": "code",
   "execution_count": 25,
   "metadata": {},
   "outputs": [
    {
     "data": {
      "text/html": [
       "<div>\n",
       "<style scoped>\n",
       "    .dataframe tbody tr th:only-of-type {\n",
       "        vertical-align: middle;\n",
       "    }\n",
       "\n",
       "    .dataframe tbody tr th {\n",
       "        vertical-align: top;\n",
       "    }\n",
       "\n",
       "    .dataframe thead th {\n",
       "        text-align: right;\n",
       "    }\n",
       "</style>\n",
       "<table border=\"1\" class=\"dataframe\">\n",
       "  <thead>\n",
       "    <tr style=\"text-align: right;\">\n",
       "      <th></th>\n",
       "      <th>water</th>\n",
       "      <th>uv</th>\n",
       "      <th>area</th>\n",
       "      <th>fertilizer_usage</th>\n",
       "      <th>yield</th>\n",
       "      <th>pesticides</th>\n",
       "      <th>region</th>\n",
       "      <th>cat_a</th>\n",
       "      <th>cat_b</th>\n",
       "      <th>cat_c</th>\n",
       "      <th>cat_d</th>\n",
       "    </tr>\n",
       "  </thead>\n",
       "  <tbody>\n",
       "    <tr>\n",
       "      <th>0</th>\n",
       "      <td>0.072</td>\n",
       "      <td>80.179</td>\n",
       "      <td>9.414</td>\n",
       "      <td>0.0</td>\n",
       "      <td>29.878</td>\n",
       "      <td>2.231</td>\n",
       "      <td>6.0</td>\n",
       "      <td>0.0</td>\n",
       "      <td>1.0</td>\n",
       "      <td>1.0</td>\n",
       "      <td>0.0</td>\n",
       "    </tr>\n",
       "    <tr>\n",
       "      <th>1</th>\n",
       "      <td>5.413</td>\n",
       "      <td>58.359</td>\n",
       "      <td>9.681</td>\n",
       "      <td>2.0</td>\n",
       "      <td>53.416</td>\n",
       "      <td>1.810</td>\n",
       "      <td>6.0</td>\n",
       "      <td>0.0</td>\n",
       "      <td>1.0</td>\n",
       "      <td>1.0</td>\n",
       "      <td>0.0</td>\n",
       "    </tr>\n",
       "    <tr>\n",
       "      <th>2</th>\n",
       "      <td>9.731</td>\n",
       "      <td>78.506</td>\n",
       "      <td>7.189</td>\n",
       "      <td>1.0</td>\n",
       "      <td>63.391</td>\n",
       "      <td>2.455</td>\n",
       "      <td>1.0</td>\n",
       "      <td>0.0</td>\n",
       "      <td>0.0</td>\n",
       "      <td>0.0</td>\n",
       "      <td>1.0</td>\n",
       "    </tr>\n",
       "    <tr>\n",
       "      <th>3</th>\n",
       "      <td>10.995</td>\n",
       "      <td>69.248</td>\n",
       "      <td>1.738</td>\n",
       "      <td>3.0</td>\n",
       "      <td>17.984</td>\n",
       "      <td>0.603</td>\n",
       "      <td>2.0</td>\n",
       "      <td>1.0</td>\n",
       "      <td>0.0</td>\n",
       "      <td>0.0</td>\n",
       "      <td>0.0</td>\n",
       "    </tr>\n",
       "    <tr>\n",
       "      <th>4</th>\n",
       "      <td>2.617</td>\n",
       "      <td>87.658</td>\n",
       "      <td>9.706</td>\n",
       "      <td>1.0</td>\n",
       "      <td>49.768</td>\n",
       "      <td>2.910</td>\n",
       "      <td>6.0</td>\n",
       "      <td>0.0</td>\n",
       "      <td>0.0</td>\n",
       "      <td>1.0</td>\n",
       "      <td>0.0</td>\n",
       "    </tr>\n",
       "  </tbody>\n",
       "</table>\n",
       "</div>"
      ],
      "text/plain": [
       "    water      uv   area  fertilizer_usage   yield  pesticides  region  cat_a  \\\n",
       "0   0.072  80.179  9.414               0.0  29.878       2.231     6.0    0.0   \n",
       "1   5.413  58.359  9.681               2.0  53.416       1.810     6.0    0.0   \n",
       "2   9.731  78.506  7.189               1.0  63.391       2.455     1.0    0.0   \n",
       "3  10.995  69.248  1.738               3.0  17.984       0.603     2.0    1.0   \n",
       "4   2.617  87.658  9.706               1.0  49.768       2.910     6.0    0.0   \n",
       "\n",
       "   cat_b  cat_c  cat_d  \n",
       "0    1.0    1.0    0.0  \n",
       "1    1.0    1.0    0.0  \n",
       "2    0.0    0.0    1.0  \n",
       "3    0.0    0.0    0.0  \n",
       "4    0.0    1.0    0.0  "
      ]
     },
     "execution_count": 25,
     "metadata": {},
     "output_type": "execute_result"
    }
   ],
   "source": [
    "data4 = pd.DataFrame(imputer.fit_transform(data3), columns=data3.columns)\n",
    "data4.head()"
   ]
  },
  {
   "cell_type": "code",
   "execution_count": 26,
   "metadata": {},
   "outputs": [
    {
     "data": {
      "text/plain": [
       "water               0\n",
       "uv                  0\n",
       "area                0\n",
       "fertilizer_usage    0\n",
       "yield               0\n",
       "pesticides          0\n",
       "region              0\n",
       "cat_a               0\n",
       "cat_b               0\n",
       "cat_c               0\n",
       "cat_d               0\n",
       "dtype: int64"
      ]
     },
     "execution_count": 26,
     "metadata": {},
     "output_type": "execute_result"
    }
   ],
   "source": [
    "# Sanity Check, count number of NaNs in data4\n",
    "data4.isna().sum()"
   ]
  },
  {
   "cell_type": "code",
   "execution_count": 27,
   "metadata": {},
   "outputs": [
    {
     "data": {
      "text/html": [
       "<div>\n",
       "<style scoped>\n",
       "    .dataframe tbody tr th:only-of-type {\n",
       "        vertical-align: middle;\n",
       "    }\n",
       "\n",
       "    .dataframe tbody tr th {\n",
       "        vertical-align: top;\n",
       "    }\n",
       "\n",
       "    .dataframe thead th {\n",
       "        text-align: right;\n",
       "    }\n",
       "</style>\n",
       "<table border=\"1\" class=\"dataframe\">\n",
       "  <thead>\n",
       "    <tr style=\"text-align: right;\">\n",
       "      <th></th>\n",
       "      <th>water</th>\n",
       "      <th>uv</th>\n",
       "      <th>area</th>\n",
       "      <th>fertilizer_usage</th>\n",
       "      <th>yield</th>\n",
       "      <th>pesticides</th>\n",
       "      <th>region</th>\n",
       "      <th>cat_a</th>\n",
       "      <th>cat_b</th>\n",
       "      <th>cat_c</th>\n",
       "      <th>cat_d</th>\n",
       "    </tr>\n",
       "  </thead>\n",
       "  <tbody>\n",
       "    <tr>\n",
       "      <th>0</th>\n",
       "      <td>0.072</td>\n",
       "      <td>80.179</td>\n",
       "      <td>9.414</td>\n",
       "      <td>0</td>\n",
       "      <td>29.878</td>\n",
       "      <td>2.231</td>\n",
       "      <td>6</td>\n",
       "      <td>0</td>\n",
       "      <td>1</td>\n",
       "      <td>1</td>\n",
       "      <td>0</td>\n",
       "    </tr>\n",
       "    <tr>\n",
       "      <th>1</th>\n",
       "      <td>5.413</td>\n",
       "      <td>58.359</td>\n",
       "      <td>9.681</td>\n",
       "      <td>2</td>\n",
       "      <td>53.416</td>\n",
       "      <td>1.810</td>\n",
       "      <td>6</td>\n",
       "      <td>0</td>\n",
       "      <td>1</td>\n",
       "      <td>1</td>\n",
       "      <td>0</td>\n",
       "    </tr>\n",
       "    <tr>\n",
       "      <th>2</th>\n",
       "      <td>9.731</td>\n",
       "      <td>78.506</td>\n",
       "      <td>7.189</td>\n",
       "      <td>1</td>\n",
       "      <td>63.391</td>\n",
       "      <td>2.455</td>\n",
       "      <td>1</td>\n",
       "      <td>0</td>\n",
       "      <td>0</td>\n",
       "      <td>0</td>\n",
       "      <td>1</td>\n",
       "    </tr>\n",
       "    <tr>\n",
       "      <th>3</th>\n",
       "      <td>10.995</td>\n",
       "      <td>69.248</td>\n",
       "      <td>1.738</td>\n",
       "      <td>3</td>\n",
       "      <td>17.984</td>\n",
       "      <td>0.603</td>\n",
       "      <td>2</td>\n",
       "      <td>1</td>\n",
       "      <td>0</td>\n",
       "      <td>0</td>\n",
       "      <td>0</td>\n",
       "    </tr>\n",
       "    <tr>\n",
       "      <th>4</th>\n",
       "      <td>2.617</td>\n",
       "      <td>87.658</td>\n",
       "      <td>9.706</td>\n",
       "      <td>1</td>\n",
       "      <td>49.768</td>\n",
       "      <td>2.910</td>\n",
       "      <td>6</td>\n",
       "      <td>0</td>\n",
       "      <td>0</td>\n",
       "      <td>1</td>\n",
       "      <td>0</td>\n",
       "    </tr>\n",
       "    <tr>\n",
       "      <th>...</th>\n",
       "      <td>...</td>\n",
       "      <td>...</td>\n",
       "      <td>...</td>\n",
       "      <td>...</td>\n",
       "      <td>...</td>\n",
       "      <td>...</td>\n",
       "      <td>...</td>\n",
       "      <td>...</td>\n",
       "      <td>...</td>\n",
       "      <td>...</td>\n",
       "      <td>...</td>\n",
       "    </tr>\n",
       "    <tr>\n",
       "      <th>995</th>\n",
       "      <td>5.457</td>\n",
       "      <td>70.622</td>\n",
       "      <td>8.163</td>\n",
       "      <td>3</td>\n",
       "      <td>89.809</td>\n",
       "      <td>4.224</td>\n",
       "      <td>2</td>\n",
       "      <td>0</td>\n",
       "      <td>0</td>\n",
       "      <td>1</td>\n",
       "      <td>0</td>\n",
       "    </tr>\n",
       "    <tr>\n",
       "      <th>996</th>\n",
       "      <td>6.931</td>\n",
       "      <td>75.326</td>\n",
       "      <td>5.675</td>\n",
       "      <td>0</td>\n",
       "      <td>29.261</td>\n",
       "      <td>1.355</td>\n",
       "      <td>2</td>\n",
       "      <td>1</td>\n",
       "      <td>1</td>\n",
       "      <td>0</td>\n",
       "      <td>1</td>\n",
       "    </tr>\n",
       "    <tr>\n",
       "      <th>997</th>\n",
       "      <td>10.373</td>\n",
       "      <td>78.225</td>\n",
       "      <td>7.378</td>\n",
       "      <td>3</td>\n",
       "      <td>76.608</td>\n",
       "      <td>5.459</td>\n",
       "      <td>2</td>\n",
       "      <td>0</td>\n",
       "      <td>1</td>\n",
       "      <td>0</td>\n",
       "      <td>0</td>\n",
       "    </tr>\n",
       "    <tr>\n",
       "      <th>998</th>\n",
       "      <td>9.158</td>\n",
       "      <td>79.257</td>\n",
       "      <td>9.011</td>\n",
       "      <td>2</td>\n",
       "      <td>80.399</td>\n",
       "      <td>5.968</td>\n",
       "      <td>1</td>\n",
       "      <td>1</td>\n",
       "      <td>1</td>\n",
       "      <td>1</td>\n",
       "      <td>1</td>\n",
       "    </tr>\n",
       "    <tr>\n",
       "      <th>999</th>\n",
       "      <td>3.316</td>\n",
       "      <td>75.490</td>\n",
       "      <td>5.501</td>\n",
       "      <td>1</td>\n",
       "      <td>43.152</td>\n",
       "      <td>4.220</td>\n",
       "      <td>3</td>\n",
       "      <td>0</td>\n",
       "      <td>0</td>\n",
       "      <td>1</td>\n",
       "      <td>0</td>\n",
       "    </tr>\n",
       "  </tbody>\n",
       "</table>\n",
       "<p>957 rows × 11 columns</p>\n",
       "</div>"
      ],
      "text/plain": [
       "      water      uv   area  fertilizer_usage   yield  pesticides  region  \\\n",
       "0     0.072  80.179  9.414                 0  29.878       2.231       6   \n",
       "1     5.413  58.359  9.681                 2  53.416       1.810       6   \n",
       "2     9.731  78.506  7.189                 1  63.391       2.455       1   \n",
       "3    10.995  69.248  1.738                 3  17.984       0.603       2   \n",
       "4     2.617  87.658  9.706                 1  49.768       2.910       6   \n",
       "..      ...     ...    ...               ...     ...         ...     ...   \n",
       "995   5.457  70.622  8.163                 3  89.809       4.224       2   \n",
       "996   6.931  75.326  5.675                 0  29.261       1.355       2   \n",
       "997  10.373  78.225  7.378                 3  76.608       5.459       2   \n",
       "998   9.158  79.257  9.011                 2  80.399       5.968       1   \n",
       "999   3.316  75.490  5.501                 1  43.152       4.220       3   \n",
       "\n",
       "     cat_a  cat_b  cat_c  cat_d  \n",
       "0        0      1      1      0  \n",
       "1        0      1      1      0  \n",
       "2        0      0      0      1  \n",
       "3        1      0      0      0  \n",
       "4        0      0      1      0  \n",
       "..     ...    ...    ...    ...  \n",
       "995      0      0      1      0  \n",
       "996      1      1      0      1  \n",
       "997      0      1      0      0  \n",
       "998      1      1      1      1  \n",
       "999      0      0      1      0  \n",
       "\n",
       "[957 rows x 11 columns]"
      ]
     },
     "execution_count": 27,
     "metadata": {},
     "output_type": "execute_result"
    }
   ],
   "source": [
    "data3"
   ]
  },
  {
   "cell_type": "markdown",
   "metadata": {},
   "source": [
    "# Model Building\n",
    "\n",
    "Now, we will use this data to come up with a model. I think it's quite clear that **the variable we want to predict is total crop yield**. Farmers want to maximize the yield of their product subject to a number of constraints such as how much land they want to work with.\n",
    "\n",
    "Generally, I like to start very simple with my models. If there is absolutely nothing to be found using a simple model, then chances are you will waste lots of time building a fancy model just for it to not work as well. For this reason, I will start with a simple multivariate regression. \n",
    "\n",
    "Let's divide our data into training and testing datasets:"
   ]
  },
  {
   "cell_type": "code",
   "execution_count": 28,
   "metadata": {},
   "outputs": [],
   "source": [
    "# Separate dataframe into dependent and independent variables\n",
    "X = data4.loc[:,data4.columns != 'yield']\n",
    "y = data4.loc[:,'yield']"
   ]
  },
  {
   "cell_type": "code",
   "execution_count": 29,
   "metadata": {},
   "outputs": [],
   "source": [
    "X_train, X_test, y_train, y_test = train_test_split(X, y, test_size=0.33, random_state=9001)"
   ]
  },
  {
   "cell_type": "markdown",
   "metadata": {},
   "source": [
    "## Model 1: Baseline Regression"
   ]
  },
  {
   "cell_type": "code",
   "execution_count": 30,
   "metadata": {},
   "outputs": [
    {
     "name": "stdout",
     "output_type": "stream",
     "text": [
      "                                 OLS Regression Results                                \n",
      "=======================================================================================\n",
      "Dep. Variable:                  yield   R-squared (uncentered):                   0.954\n",
      "Model:                            OLS   Adj. R-squared (uncentered):              0.954\n",
      "Method:                 Least Squares   F-statistic:                              1323.\n",
      "Date:                Thu, 09 Sep 2021   Prob (F-statistic):                        0.00\n",
      "Time:                        13:09:29   Log-Likelihood:                         -2589.1\n",
      "No. Observations:                 641   AIC:                                      5198.\n",
      "Df Residuals:                     631   BIC:                                      5243.\n",
      "Df Model:                          10                                                  \n",
      "Covariance Type:            nonrobust                                                  \n",
      "====================================================================================\n",
      "                       coef    std err          t      P>|t|      [0.025      0.975]\n",
      "------------------------------------------------------------------------------------\n",
      "water                1.3696      0.202      6.792      0.000       0.974       1.766\n",
      "uv                  -0.1090      0.033     -3.305      0.001      -0.174      -0.044\n",
      "area                 6.9271      0.228     30.379      0.000       6.479       7.375\n",
      "fertilizer_usage     8.9901      0.389     23.111      0.000       8.226       9.754\n",
      "pesticides           0.4834      0.266      1.817      0.070      -0.039       1.006\n",
      "region              -4.9257      0.319    -15.418      0.000      -5.553      -4.298\n",
      "cat_a                0.3237      1.098      0.295      0.768      -1.833       2.481\n",
      "cat_b               -2.8406      1.155     -2.460      0.014      -5.108      -0.573\n",
      "cat_c               -3.5432      1.121     -3.160      0.002      -5.745      -1.341\n",
      "cat_d                0.2614      1.118      0.234      0.815      -1.934       2.456\n",
      "==============================================================================\n",
      "Omnibus:                       19.077   Durbin-Watson:                   1.963\n",
      "Prob(Omnibus):                  0.000   Jarque-Bera (JB):               38.304\n",
      "Skew:                           0.125   Prob(JB):                     4.81e-09\n",
      "Kurtosis:                       4.171   Cond. No.                         170.\n",
      "==============================================================================\n",
      "\n",
      "Warnings:\n",
      "[1] Standard Errors assume that the covariance matrix of the errors is correctly specified.\n"
     ]
    }
   ],
   "source": [
    "# Fit the regression, print ANOVA table\n",
    "est = sm.OLS(y_train, X_train)\n",
    "lm = est.fit()\n",
    "print(lm.summary())"
   ]
  },
  {
   "cell_type": "markdown",
   "metadata": {},
   "source": [
    "We can see here that the full model has some statistically significant results. For example, the $R^2$ is very high, and the p-values of many of the variables indicate that they are indeed strong. Furthermore, it is interesting to note that some of the pesticides appear to not be statistically significant i.e. category a and category d pesticides. Therefore, I'm keen to move forward and see if we can improve upon this. To get a baseline score, let's see the MSE of this linear model:"
   ]
  },
  {
   "cell_type": "code",
   "execution_count": 31,
   "metadata": {},
   "outputs": [],
   "source": [
    "# Predict y_test values using model\n",
    "y_pred_lm = lm.predict(X_test)"
   ]
  },
  {
   "cell_type": "code",
   "execution_count": 32,
   "metadata": {},
   "outputs": [
    {
     "data": {
      "text/plain": [
       "194.8634225375"
      ]
     },
     "execution_count": 32,
     "metadata": {},
     "output_type": "execute_result"
    }
   ],
   "source": [
    "# Calculate the mean-squared error\n",
    "mean_squared_error(y_test, y_pred_lm)"
   ]
  },
  {
   "cell_type": "markdown",
   "metadata": {},
   "source": [
    "This will be the score to beat! "
   ]
  },
  {
   "cell_type": "markdown",
   "metadata": {},
   "source": [
    "## Model 2: LASSO Regression\n",
    "\n",
    "Since we saw that perhaps some of the variables in the linear model were not statistically significant, let's see if we can shrink any of the coefficients to zero and achieve a higher MSE score:"
   ]
  },
  {
   "cell_type": "code",
   "execution_count": 33,
   "metadata": {},
   "outputs": [],
   "source": [
    "# Initialize a vanilla LASSO regression\n",
    "lreg = linear_model.Lasso(alpha=0.1)\n",
    "\n",
    "# Fit the model\n",
    "lasso = lreg.fit(X_train, y_train)"
   ]
  },
  {
   "cell_type": "code",
   "execution_count": 34,
   "metadata": {},
   "outputs": [],
   "source": [
    "# Predict y_test values\n",
    "y_pred_lasso = lasso.predict(X_test)"
   ]
  },
  {
   "cell_type": "code",
   "execution_count": 35,
   "metadata": {},
   "outputs": [
    {
     "data": {
      "text/plain": [
       "190.29940128747336"
      ]
     },
     "execution_count": 35,
     "metadata": {},
     "output_type": "execute_result"
    }
   ],
   "source": [
    "# Calculate MSE\n",
    "mean_squared_error(y_test, y_pred_lasso)"
   ]
  },
  {
   "cell_type": "markdown",
   "metadata": {},
   "source": [
    "This is good and all, but perhaps we should do some cross validation on our alpha to see if we can do even better. "
   ]
  },
  {
   "cell_type": "code",
   "execution_count": 36,
   "metadata": {},
   "outputs": [],
   "source": [
    "# Initialize array of alphas\n",
    "alphas = np.linspace(0,5,51)"
   ]
  },
  {
   "cell_type": "code",
   "execution_count": 37,
   "metadata": {},
   "outputs": [
    {
     "name": "stderr",
     "output_type": "stream",
     "text": [
      "/Users/lucaskrenn/opt/anaconda3/lib/python3.7/site-packages/ipykernel_launcher.py:10: UserWarning: With alpha=0, this algorithm does not converge well. You are advised to use the LinearRegression estimator\n",
      "  # Remove the CWD from sys.path while we load stuff.\n",
      "/Users/lucaskrenn/opt/anaconda3/lib/python3.7/site-packages/sklearn/linear_model/_coordinate_descent.py:532: UserWarning: Coordinate descent with no regularization may lead to unexpected results and is discouraged.\n",
      "  positive)\n",
      "/Users/lucaskrenn/opt/anaconda3/lib/python3.7/site-packages/sklearn/linear_model/_coordinate_descent.py:532: ConvergenceWarning: Objective did not converge. You might want to increase the number of iterations. Duality gap: 38107.47872868374, tolerance: 25.28827263313007\n",
      "  positive)\n"
     ]
    }
   ],
   "source": [
    "# Loop through each alpha\n",
    "res = []\n",
    "for alpha in alphas:\n",
    "    \n",
    "    # Split training data into smaller training/validation sets\n",
    "    X_train2, X_test2, y_train2, y_test2 = train_test_split(X_train, y_train, test_size=0.33, random_state=9002)\n",
    "    \n",
    "    # Train the model on new training data\n",
    "    lreg = linear_model.Lasso(alpha=alpha)\n",
    "    lasso = lreg.fit(X_train2, y_train2)\n",
    "    \n",
    "    # Predict the values of the validation data\n",
    "    y_pred_lasso = lasso.predict(X_test2)\n",
    "    \n",
    "    # Append MSE\n",
    "    res.append([alpha, mean_squared_error(y_test2, y_pred_lasso)])"
   ]
  },
  {
   "cell_type": "markdown",
   "metadata": {},
   "source": [
    "We managed to beat the vanilla linear model, which is great. Now, let's try to find the alpha that gives us the most promising results:"
   ]
  },
  {
   "cell_type": "code",
   "execution_count": 38,
   "metadata": {},
   "outputs": [
    {
     "data": {
      "text/plain": [
       "<AxesSubplot:xlabel='$\\\\alpha$'>"
      ]
     },
     "execution_count": 38,
     "metadata": {},
     "output_type": "execute_result"
    },
    {
     "data": {
      "image/png": "[encoded data removed]",
      "text/plain": [
       "<Figure size 720x360 with 1 Axes>"
      ]
     },
     "metadata": {
      "needs_background": "light"
     },
     "output_type": "display_data"
    }
   ],
   "source": [
    "# Plot the MSE of the models using various alphas\n",
    "lasso_cv_res = pd.DataFrame(res, columns=[r'$\\alpha$', 'MSE']).set_index(r'$\\alpha$')\n",
    "lasso_cv_res.plot(figsize=(10,5))"
   ]
  },
  {
   "cell_type": "code",
   "execution_count": 39,
   "metadata": {},
   "outputs": [
    {
     "data": {
      "text/html": [
       "<div>\n",
       "<style scoped>\n",
       "    .dataframe tbody tr th:only-of-type {\n",
       "        vertical-align: middle;\n",
       "    }\n",
       "\n",
       "    .dataframe tbody tr th {\n",
       "        vertical-align: top;\n",
       "    }\n",
       "\n",
       "    .dataframe thead th {\n",
       "        text-align: right;\n",
       "    }\n",
       "</style>\n",
       "<table border=\"1\" class=\"dataframe\">\n",
       "  <thead>\n",
       "    <tr style=\"text-align: right;\">\n",
       "      <th></th>\n",
       "      <th>MSE</th>\n",
       "    </tr>\n",
       "    <tr>\n",
       "      <th>$\\alpha$</th>\n",
       "      <th></th>\n",
       "    </tr>\n",
       "  </thead>\n",
       "  <tbody>\n",
       "    <tr>\n",
       "      <th>0.3</th>\n",
       "      <td>211.918152</td>\n",
       "    </tr>\n",
       "  </tbody>\n",
       "</table>\n",
       "</div>"
      ],
      "text/plain": [
       "                 MSE\n",
       "$\\alpha$            \n",
       "0.3       211.918152"
      ]
     },
     "execution_count": 39,
     "metadata": {},
     "output_type": "execute_result"
    }
   ],
   "source": [
    "# Find the minimum of this graph\n",
    "lasso_cv_res.loc[(lasso_cv_res == lasso_cv_res.min()).values]"
   ]
  },
  {
   "cell_type": "markdown",
   "metadata": {},
   "source": [
    "Our best value is when $\\alpha = 0.3$. Let's see how this compares to our other results:"
   ]
  },
  {
   "cell_type": "code",
   "execution_count": 40,
   "metadata": {},
   "outputs": [],
   "source": [
    "# Fit the model with alpha=0.3\n",
    "lreg = linear_model.Lasso(alpha=0.3)\n",
    "lasso = lreg.fit(X_train, y_train)"
   ]
  },
  {
   "cell_type": "code",
   "execution_count": 41,
   "metadata": {},
   "outputs": [],
   "source": [
    "# Predict y_test using this final model\n",
    "y_pred_lasso = lasso.predict(X_test)"
   ]
  },
  {
   "cell_type": "code",
   "execution_count": 42,
   "metadata": {},
   "outputs": [
    {
     "data": {
      "text/plain": [
       "188.40524682905476"
      ]
     },
     "execution_count": 42,
     "metadata": {},
     "output_type": "execute_result"
    }
   ],
   "source": [
    "# Print MSE\n",
    "mean_squared_error(y_test, y_pred_lasso)"
   ]
  },
  {
   "cell_type": "markdown",
   "metadata": {},
   "source": [
    "This is the best score we've seen thus far! Finally, let's move onto an even fancier model: Random Forests."
   ]
  },
  {
   "cell_type": "markdown",
   "metadata": {},
   "source": [
    "## Model 3: Random Forests\n",
    "\n",
    "Random forests are exceptionally good at these types of problems. "
   ]
  },
  {
   "cell_type": "code",
   "execution_count": 43,
   "metadata": {},
   "outputs": [],
   "source": [
    "# Initialize vanilla Random Forests model\n",
    "regressor = RandomForestRegressor(n_estimators = 100, random_state = 9003)"
   ]
  },
  {
   "cell_type": "code",
   "execution_count": 44,
   "metadata": {},
   "outputs": [
    {
     "data": {
      "text/plain": [
       "RandomForestRegressor(random_state=9003)"
      ]
     },
     "execution_count": 44,
     "metadata": {},
     "output_type": "execute_result"
    }
   ],
   "source": [
    "# Fit using training data\n",
    "regressor.fit(X_train, y_train)  "
   ]
  },
  {
   "cell_type": "code",
   "execution_count": 45,
   "metadata": {},
   "outputs": [],
   "source": [
    "# Predict y_test using vanilla RF\n",
    "y_pred_rf = regressor.predict(X_test)"
   ]
  },
  {
   "cell_type": "code",
   "execution_count": 46,
   "metadata": {},
   "outputs": [
    {
     "data": {
      "text/plain": [
       "101.37431094347754"
      ]
     },
     "execution_count": 46,
     "metadata": {},
     "output_type": "execute_result"
    }
   ],
   "source": [
    "# Print MSE\n",
    "mean_squared_error(y_test, y_pred_rf)"
   ]
  },
  {
   "cell_type": "markdown",
   "metadata": {},
   "source": [
    "This just about blows the other models out of the water using only vanilla parameters. Let's see if we can improve on it even further by doing some cross validation. Let's first define the parameters of our CV grid search:"
   ]
  },
  {
   "cell_type": "code",
   "execution_count": 47,
   "metadata": {},
   "outputs": [],
   "source": [
    "# Number of trees in random forest\n",
    "n_estimators = [int(x) for x in np.linspace(start = 20, stop = 500, num = 10)]\n",
    "\n",
    "# Number of features to consider at every split\n",
    "max_features = ['auto', 'sqrt']\n",
    "\n",
    "# Maximum number of levels in tree\n",
    "max_depth = [int(x) for x in np.linspace(10, 110, num = 11)]\n",
    "max_depth.append(None)\n",
    "\n",
    "# Minimum number of samples required to split a node\n",
    "min_samples_split = [2, 5, 10]\n",
    "\n",
    "# Minimum number of samples required at each leaf node\n",
    "min_samples_leaf = [1, 2, 4]\n",
    "\n",
    "# Method of selecting samples for training each tree\n",
    "bootstrap = [True, False]"
   ]
  },
  {
   "cell_type": "code",
   "execution_count": 48,
   "metadata": {},
   "outputs": [],
   "source": [
    "# Create our grid\n",
    "random_grid = {'n_estimators': n_estimators,\n",
    "               'max_features': max_features,\n",
    "               'max_depth': max_depth,\n",
    "               'min_samples_split': min_samples_split,\n",
    "               'min_samples_leaf': min_samples_leaf,\n",
    "               'bootstrap': bootstrap}"
   ]
  },
  {
   "cell_type": "code",
   "execution_count": 49,
   "metadata": {},
   "outputs": [
    {
     "name": "stdout",
     "output_type": "stream",
     "text": [
      "Fitting 3 folds for each of 100 candidates, totalling 300 fits\n"
     ]
    },
    {
     "data": {
      "text/plain": [
       "RandomizedSearchCV(cv=3, estimator=RandomForestRegressor(), n_iter=100,\n",
       "                   n_jobs=-1,\n",
       "                   param_distributions={'bootstrap': [True, False],\n",
       "                                        'max_depth': [10, 20, 30, 40, 50, 60,\n",
       "                                                      70, 80, 90, 100, 110,\n",
       "                                                      None],\n",
       "                                        'max_features': ['auto', 'sqrt'],\n",
       "                                        'min_samples_leaf': [1, 2, 4],\n",
       "                                        'min_samples_split': [2, 5, 10],\n",
       "                                        'n_estimators': [20, 73, 126, 180, 233,\n",
       "                                                         286, 340, 393, 446,\n",
       "                                                         500]},\n",
       "                   random_state=9003, verbose=2)"
      ]
     },
     "execution_count": 49,
     "metadata": {},
     "output_type": "execute_result"
    }
   ],
   "source": [
    "# Use the random grid to search for best hyperparameters\n",
    "# First create the base model to tune\n",
    "rf = RandomForestRegressor()\n",
    "# Random search of parameters, using 3 fold cross validation, \n",
    "# search across 100 different combinations, and use all available cores\n",
    "rf_random = RandomizedSearchCV(estimator = rf, param_distributions = random_grid, n_iter = 100, cv = 3, \n",
    "                               verbose=2, random_state=9003, n_jobs = -1)\n",
    "# Fit the random search model\n",
    "rf_random.fit(X_train, y_train)"
   ]
  },
  {
   "cell_type": "code",
   "execution_count": 50,
   "metadata": {},
   "outputs": [
    {
     "data": {
      "text/plain": [
       "{'n_estimators': 446,\n",
       " 'min_samples_split': 5,\n",
       " 'min_samples_leaf': 1,\n",
       " 'max_features': 'auto',\n",
       " 'max_depth': 60,\n",
       " 'bootstrap': True}"
      ]
     },
     "execution_count": 50,
     "metadata": {},
     "output_type": "execute_result"
    }
   ],
   "source": [
    "rf_random.best_params_"
   ]
  },
  {
   "cell_type": "code",
   "execution_count": 51,
   "metadata": {},
   "outputs": [],
   "source": [
    "best_random = rf_random.best_estimator_"
   ]
  },
  {
   "cell_type": "code",
   "execution_count": 52,
   "metadata": {},
   "outputs": [
    {
     "data": {
      "text/plain": [
       "101.76442450135019"
      ]
     },
     "execution_count": 52,
     "metadata": {},
     "output_type": "execute_result"
    }
   ],
   "source": [
    "mean_squared_error(y_test, best_random.predict(X_test))"
   ]
  },
  {
   "cell_type": "markdown",
   "metadata": {},
   "source": [
    "Even though this model does not have as low MSE as the vanilla RF model, I think sacrificing a bit of error for the sake of robustness is worth it. For this reason, I would be going with this model as my final model. "
   ]
  },
  {
   "cell_type": "markdown",
   "metadata": {},
   "source": [
    "# Next Steps\n",
    "\n",
    "For next steps, I would want to use this model to nowcast the expected yield of a farm as data rolls in. This information can be used in a variety of ways including creating a signal to trade futures contracts on specific crop based on the expected combined yield of farms growing that crop. Low yield indicates low supply which means prices will generally be higher. \n",
    "\n",
    "We can also use this model to assist farmers in maximixing yield given certain conditions, or give them an idea of what to expect for yield."
   ]
  },
  {
   "cell_type": "code",
   "execution_count": null,
   "metadata": {},
   "outputs": [],
   "source": []
  }
 ],
 "metadata": {
  "kernelspec": {
   "display_name": "Python 3",
   "language": "python",
   "name": "python3"
  },
  "language_info": {
   "codemirror_mode": {
    "name": "ipython",
    "version": 3
   },
   "file_extension": ".py",
   "mimetype": "text/x-python",
   "name": "python",
   "nbconvert_exporter": "python",
   "pygments_lexer": "ipython3",
   "version": "3.7.4"
  }
 },
 "nbformat": 4,
 "nbformat_minor": 2
}
